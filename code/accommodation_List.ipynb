{
 "cells": [
  {
   "attachments": {},
   "cell_type": "markdown",
   "metadata": {},
   "source": [
    "## 숙소 목록 크롤링(여기어때)\n",
    "\n",
    "숙소 목록 "
   ]
  },
  {
   "cell_type": "markdown",
   "metadata": {},
   "source": [
    "인기숙소 : https://www.goodchoice.kr/product/home/숙소별,지역별번호\n",
    "\n",
    "모텔 : https://www.goodchoice.kr/product/search/1/지역번호\n",
    "\n",
    "호텔.리조트 : https://www.goodchoice.kr/product/search/2/지역번호\n",
    "\n",
    "펜션 : https://www.goodchoice.kr/product/search/3/지역번호\n",
    "\n",
    "\n",
    "기간지정시 https://www.goodchoice.kr/product/search/2/지역번호/sel_date=2023-04-03&sel_date2=2023-05-02\n",
    "\n",
    "상세 페이지 : https://www.goodchoice.kr/product/detail?ano=4060&adcno=1&sel_date=2023-05-31&sel_date2=2023-06-01\n",
    "// ano는 상품의 번호, adcno는 상품 할인 정보로 예상됨 (adcno는 없어도 되지만 ano는 없으면 안됨, 지역별로 숫자의 순서는 상관이 없는 것으로 예상됨)"
   ]
  },
  {
   "cell_type": "code",
   "execution_count": 12,
   "metadata": {},
   "outputs": [],
   "source": [
    "import time\n",
    "import requests\n",
    "import json\n",
    "import pandas as pd\n",
    "from tqdm import tqdm\n",
    "from bs4 import BeautifulSoup"
   ]
  },
  {
   "attachments": {},
   "cell_type": "markdown",
   "metadata": {},
   "source": [
    "### 숙소 목록 페이지 크롤링\n",
    "숙소 목록 크롤링 후 저장"
   ]
  },
  {
   "cell_type": "code",
   "execution_count": 13,
   "metadata": {},
   "outputs": [],
   "source": [
    "item_list = []"
   ]
  },
  {
   "cell_type": "code",
   "execution_count": 7,
   "metadata": {},
   "outputs": [],
   "source": [
    "category =input()\n",
    "# 1 : 모텔, 2 : 호텔.리조트, 3: 펜션\n",
    "\n",
    "\n",
    "url =f\"https://www.goodchoice.kr/product/search/{category}\"\n",
    "resp = requests.get(url)\n",
    "soup = BeautifulSoup(resp.content , \"html.parser\")\n",
    "getitem = soup.select(\"#poduct_list_area li\")\n",
    "\n",
    "for item in getitem:\n",
    "    # try:\n",
    "        item_name = item.select_one('.name')\n",
    "        item_a = item.select_one('a')\n",
    "\n",
    "        name = item_name.select_one('strong').text.strip()\n",
    "        if (item_name.select_one('p em') == None) :\n",
    "            score = 0\n",
    "        else:\n",
    "            score = item_name.select_one('p em').text.strip()\n",
    "        region = item_name.select('p')[1].text.strip()\n",
    "        ano = item_a['data-ano']\n",
    "        lat = item_a['data-alat']\n",
    "        lng = item_a['data-alng']\n",
    "        pic_url = 'https:'+item.select_one('.pic img')['data-original']\n",
    "\n",
    "        item_list.append({\n",
    "                'category' : category,\n",
    "                'name' : name,\n",
    "                'score': score,\n",
    "                'region' : region,\n",
    "                'ano' : ano,\n",
    "                'lat' : lat,\n",
    "                'lng': lng,\n",
    "                'pic_url' : pic_url\n",
    "            })\n",
    "        \n",
    "    # except:\n",
    "    #     print('error')"
   ]
  },
  {
   "attachments": {},
   "cell_type": "markdown",
   "metadata": {},
   "source": [
    "### 데이터 확인\n"
   ]
  },
  {
   "cell_type": "code",
   "execution_count": 8,
   "metadata": {},
   "outputs": [
    {
     "name": "stdout",
     "output_type": "stream",
     "text": [
      "266\n"
     ]
    }
   ],
   "source": [
    "# category : 숙소 카테고리, name : 숙소명, score : 평점, region : 지역, ano : 상품번호, \n",
    "# lat : 위도, lng 경도, pic_url : 대표사진 url\n",
    "df = pd.DataFrame(item_list)\n",
    "\n",
    "df.head()\n",
    "print(len(df))"
   ]
  },
  {
   "cell_type": "markdown",
   "metadata": {},
   "source": [
    "### 데이터 저장"
   ]
  },
  {
   "cell_type": "code",
   "execution_count": 11,
   "metadata": {},
   "outputs": [
    {
     "data": {
      "text/html": [
       "<div>\n",
       "<style scoped>\n",
       "    .dataframe tbody tr th:only-of-type {\n",
       "        vertical-align: middle;\n",
       "    }\n",
       "\n",
       "    .dataframe tbody tr th {\n",
       "        vertical-align: top;\n",
       "    }\n",
       "\n",
       "    .dataframe thead th {\n",
       "        text-align: right;\n",
       "    }\n",
       "</style>\n",
       "<table border=\"1\" class=\"dataframe\">\n",
       "  <thead>\n",
       "    <tr style=\"text-align: right;\">\n",
       "      <th></th>\n",
       "      <th>category</th>\n",
       "      <th>name</th>\n",
       "      <th>score</th>\n",
       "      <th>region</th>\n",
       "      <th>ano</th>\n",
       "      <th>lat</th>\n",
       "      <th>lng</th>\n",
       "      <th>pic_url</th>\n",
       "    </tr>\n",
       "  </thead>\n",
       "  <tbody>\n",
       "    <tr>\n",
       "      <th>0</th>\n",
       "      <td>1</td>\n",
       "      <td>강남 더 뮤즈</td>\n",
       "      <td>9.8</td>\n",
       "      <td>강남구 역삼동</td>\n",
       "      <td>1824</td>\n",
       "      <td>37.50252991</td>\n",
       "      <td>127.0382753</td>\n",
       "      <td>https://image.goodchoice.kr/resize_1000X500x0/...</td>\n",
       "    </tr>\n",
       "    <tr>\n",
       "      <th>1</th>\n",
       "      <td>1</td>\n",
       "      <td>역삼 호텔 디 아티스트</td>\n",
       "      <td>9.3</td>\n",
       "      <td>강남구 역삼동</td>\n",
       "      <td>5675</td>\n",
       "      <td>37.50241452</td>\n",
       "      <td>127.0384878</td>\n",
       "      <td>https://image.goodchoice.kr/resize_1000X500x0/...</td>\n",
       "    </tr>\n",
       "    <tr>\n",
       "      <th>2</th>\n",
       "      <td>1</td>\n",
       "      <td>역삼 리치웰</td>\n",
       "      <td>9.3</td>\n",
       "      <td>강남구 역삼동</td>\n",
       "      <td>3805</td>\n",
       "      <td>37.5029727</td>\n",
       "      <td>127.0398226</td>\n",
       "      <td>https://image.goodchoice.kr/resize_1000X500x0/...</td>\n",
       "    </tr>\n",
       "    <tr>\n",
       "      <th>3</th>\n",
       "      <td>1</td>\n",
       "      <td>강남 캠퍼스</td>\n",
       "      <td>9.3</td>\n",
       "      <td>강남구 역삼동</td>\n",
       "      <td>4988</td>\n",
       "      <td>37.49731028</td>\n",
       "      <td>127.0291896</td>\n",
       "      <td>https://image.goodchoice.kr/resize_1000X500x0/...</td>\n",
       "    </tr>\n",
       "    <tr>\n",
       "      <th>4</th>\n",
       "      <td>1</td>\n",
       "      <td>역삼 인트로호텔</td>\n",
       "      <td>9.9</td>\n",
       "      <td>강남구 역삼동</td>\n",
       "      <td>72748</td>\n",
       "      <td>37.502753543996</td>\n",
       "      <td>127.03992345865</td>\n",
       "      <td>https://image.goodchoice.kr/resize_1000X500x0/...</td>\n",
       "    </tr>\n",
       "  </tbody>\n",
       "</table>\n",
       "</div>"
      ],
      "text/plain": [
       "  category          name score   region    ano              lat  \\\n",
       "0        1       강남 더 뮤즈   9.8  강남구 역삼동   1824      37.50252991   \n",
       "1        1  역삼 호텔 디 아티스트   9.3  강남구 역삼동   5675      37.50241452   \n",
       "2        1        역삼 리치웰   9.3  강남구 역삼동   3805       37.5029727   \n",
       "3        1        강남 캠퍼스   9.3  강남구 역삼동   4988      37.49731028   \n",
       "4        1      역삼 인트로호텔   9.9  강남구 역삼동  72748  37.502753543996   \n",
       "\n",
       "               lng                                            pic_url  \n",
       "0      127.0382753  https://image.goodchoice.kr/resize_1000X500x0/...  \n",
       "1      127.0384878  https://image.goodchoice.kr/resize_1000X500x0/...  \n",
       "2      127.0398226  https://image.goodchoice.kr/resize_1000X500x0/...  \n",
       "3      127.0291896  https://image.goodchoice.kr/resize_1000X500x0/...  \n",
       "4  127.03992345865  https://image.goodchoice.kr/resize_1000X500x0/...  "
      ]
     },
     "execution_count": 11,
     "metadata": {},
     "output_type": "execute_result"
    }
   ],
   "source": [
    "df.to_csv(f\"../data/여기어때_숙소목록전체.csv\" ,encoding=\"utf-8\")\n",
    "df.head()"
   ]
  },
  {
   "cell_type": "code",
   "execution_count": null,
   "metadata": {},
   "outputs": [],
   "source": []
  }
 ],
 "metadata": {
  "kernelspec": {
   "display_name": "Python 3",
   "language": "python",
   "name": "python3"
  },
  "language_info": {
   "codemirror_mode": {
    "name": "ipython",
    "version": 3
   },
   "file_extension": ".py",
   "mimetype": "text/x-python",
   "name": "python",
   "nbconvert_exporter": "python",
   "pygments_lexer": "ipython3",
   "version": "3.11.3"
  },
  "orig_nbformat": 4
 },
 "nbformat": 4,
 "nbformat_minor": 2
}
