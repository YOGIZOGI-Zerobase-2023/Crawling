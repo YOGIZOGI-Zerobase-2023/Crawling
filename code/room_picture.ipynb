{
 "cells": [
  {
   "attachments": {},
   "cell_type": "markdown",
   "metadata": {},
   "source": [
    "### 방 사진 정보 크롤링\n",
    "\n",
    "ano -> accommodationId 와 accommodationId, roomName -> roomId를 찾아서 picture  추가\n",
    "\n",
    "데이터를 확인하면 room과 accommodation이 잘못 매핑된 경우도 있는 것 같음 (추후 수정)\n"
   ]
  },
  {
   "cell_type": "code",
   "execution_count": 2,
   "metadata": {},
   "outputs": [],
   "source": [
    "import requests\n",
    "import json\n",
    "import pandas as pd\n",
    "from tqdm import tqdm\n",
    "from bs4 import BeautifulSoup\n",
    "from selenium import webdriver\n",
    "import time\n",
    "import re"
   ]
  },
  {
   "cell_type": "code",
   "execution_count": 3,
   "metadata": {},
   "outputs": [
    {
     "data": {
      "text/html": [
       "<div>\n",
       "<style scoped>\n",
       "    .dataframe tbody tr th:only-of-type {\n",
       "        vertical-align: middle;\n",
       "    }\n",
       "\n",
       "    .dataframe tbody tr th {\n",
       "        vertical-align: top;\n",
       "    }\n",
       "\n",
       "    .dataframe thead th {\n",
       "        text-align: right;\n",
       "    }\n",
       "</style>\n",
       "<table border=\"1\" class=\"dataframe\">\n",
       "  <thead>\n",
       "    <tr style=\"text-align: right;\">\n",
       "      <th></th>\n",
       "      <th>Unnamed: 0</th>\n",
       "      <th>id</th>\n",
       "      <th>category</th>\n",
       "      <th>name</th>\n",
       "      <th>score</th>\n",
       "      <th>region</th>\n",
       "      <th>ano</th>\n",
       "      <th>lat</th>\n",
       "      <th>lng</th>\n",
       "      <th>pic_url</th>\n",
       "      <th>address</th>\n",
       "      <th>pic_urls</th>\n",
       "      <th>detail</th>\n",
       "    </tr>\n",
       "  </thead>\n",
       "  <tbody>\n",
       "    <tr>\n",
       "      <th>0</th>\n",
       "      <td>0</td>\n",
       "      <td>1</td>\n",
       "      <td>1</td>\n",
       "      <td>강남 더 뮤즈</td>\n",
       "      <td>9.8</td>\n",
       "      <td>강남구 역삼동</td>\n",
       "      <td>1824</td>\n",
       "      <td>37.502530</td>\n",
       "      <td>127.038275</td>\n",
       "      <td>https://image.goodchoice.kr/resize_1000X500x0/...</td>\n",
       "      <td>서울 강남구 역삼동 678-9</td>\n",
       "      <td>['https://image.goodchoice.kr/resize_490x348/a...</td>\n",
       "      <td>&lt;article class=\"detail_info\"&gt;\\n&lt;!-- 기본 정보 --&gt;\\...</td>\n",
       "    </tr>\n",
       "    <tr>\n",
       "      <th>1</th>\n",
       "      <td>1</td>\n",
       "      <td>2</td>\n",
       "      <td>1</td>\n",
       "      <td>역삼 호텔 디 아티스트</td>\n",
       "      <td>9.3</td>\n",
       "      <td>강남구 역삼동</td>\n",
       "      <td>5675</td>\n",
       "      <td>37.502415</td>\n",
       "      <td>127.038488</td>\n",
       "      <td>https://image.goodchoice.kr/resize_1000X500x0/...</td>\n",
       "      <td>서울 강남구 역삼동 678-13</td>\n",
       "      <td>['https://image.goodchoice.kr/resize_490x348/a...</td>\n",
       "      <td>&lt;article class=\"detail_info\"&gt;\\n&lt;!-- 기본 정보 --&gt;\\...</td>\n",
       "    </tr>\n",
       "    <tr>\n",
       "      <th>2</th>\n",
       "      <td>2</td>\n",
       "      <td>3</td>\n",
       "      <td>1</td>\n",
       "      <td>역삼 리치웰</td>\n",
       "      <td>9.3</td>\n",
       "      <td>강남구 역삼동</td>\n",
       "      <td>3805</td>\n",
       "      <td>37.502973</td>\n",
       "      <td>127.039823</td>\n",
       "      <td>https://image.goodchoice.kr/resize_1000X500x0/...</td>\n",
       "      <td>서울 강남구 역삼동 677-9</td>\n",
       "      <td>['https://image.goodchoice.kr/resize_490x348/a...</td>\n",
       "      <td>&lt;article class=\"detail_info\"&gt;\\n&lt;!-- 기본 정보 --&gt;\\...</td>\n",
       "    </tr>\n",
       "    <tr>\n",
       "      <th>3</th>\n",
       "      <td>3</td>\n",
       "      <td>4</td>\n",
       "      <td>1</td>\n",
       "      <td>강남 캠퍼스</td>\n",
       "      <td>9.3</td>\n",
       "      <td>강남구 역삼동</td>\n",
       "      <td>4988</td>\n",
       "      <td>37.497310</td>\n",
       "      <td>127.029190</td>\n",
       "      <td>https://image.goodchoice.kr/resize_1000X500x0/...</td>\n",
       "      <td>서울 강남구 역삼동 825-30</td>\n",
       "      <td>['https://image.goodchoice.kr/resize_490x348/a...</td>\n",
       "      <td>&lt;article class=\"detail_info\"&gt;\\n&lt;!-- 기본 정보 --&gt;\\...</td>\n",
       "    </tr>\n",
       "    <tr>\n",
       "      <th>4</th>\n",
       "      <td>4</td>\n",
       "      <td>5</td>\n",
       "      <td>1</td>\n",
       "      <td>역삼 인트로호텔</td>\n",
       "      <td>9.9</td>\n",
       "      <td>강남구 역삼동</td>\n",
       "      <td>72748</td>\n",
       "      <td>37.502754</td>\n",
       "      <td>127.039923</td>\n",
       "      <td>https://image.goodchoice.kr/resize_1000X500x0/...</td>\n",
       "      <td>서울 강남구 역삼동 677-14</td>\n",
       "      <td>['https://image.goodchoice.kr/resize_490x348/a...</td>\n",
       "      <td>&lt;article class=\"detail_info\"&gt;\\n&lt;!-- 기본 정보 --&gt;\\...</td>\n",
       "    </tr>\n",
       "  </tbody>\n",
       "</table>\n",
       "</div>"
      ],
      "text/plain": [
       "   Unnamed: 0  id  category          name  score   region    ano        lat  \\\n",
       "0           0   1         1       강남 더 뮤즈    9.8  강남구 역삼동   1824  37.502530   \n",
       "1           1   2         1  역삼 호텔 디 아티스트    9.3  강남구 역삼동   5675  37.502415   \n",
       "2           2   3         1        역삼 리치웰    9.3  강남구 역삼동   3805  37.502973   \n",
       "3           3   4         1        강남 캠퍼스    9.3  강남구 역삼동   4988  37.497310   \n",
       "4           4   5         1      역삼 인트로호텔    9.9  강남구 역삼동  72748  37.502754   \n",
       "\n",
       "          lng                                            pic_url  \\\n",
       "0  127.038275  https://image.goodchoice.kr/resize_1000X500x0/...   \n",
       "1  127.038488  https://image.goodchoice.kr/resize_1000X500x0/...   \n",
       "2  127.039823  https://image.goodchoice.kr/resize_1000X500x0/...   \n",
       "3  127.029190  https://image.goodchoice.kr/resize_1000X500x0/...   \n",
       "4  127.039923  https://image.goodchoice.kr/resize_1000X500x0/...   \n",
       "\n",
       "             address                                           pic_urls  \\\n",
       "0   서울 강남구 역삼동 678-9  ['https://image.goodchoice.kr/resize_490x348/a...   \n",
       "1  서울 강남구 역삼동 678-13  ['https://image.goodchoice.kr/resize_490x348/a...   \n",
       "2   서울 강남구 역삼동 677-9  ['https://image.goodchoice.kr/resize_490x348/a...   \n",
       "3  서울 강남구 역삼동 825-30  ['https://image.goodchoice.kr/resize_490x348/a...   \n",
       "4  서울 강남구 역삼동 677-14  ['https://image.goodchoice.kr/resize_490x348/a...   \n",
       "\n",
       "                                              detail  \n",
       "0  <article class=\"detail_info\">\\n<!-- 기본 정보 -->\\...  \n",
       "1  <article class=\"detail_info\">\\n<!-- 기본 정보 -->\\...  \n",
       "2  <article class=\"detail_info\">\\n<!-- 기본 정보 -->\\...  \n",
       "3  <article class=\"detail_info\">\\n<!-- 기본 정보 -->\\...  \n",
       "4  <article class=\"detail_info\">\\n<!-- 기본 정보 -->\\...  "
      ]
     },
     "execution_count": 3,
     "metadata": {},
     "output_type": "execute_result"
    }
   ],
   "source": [
    "# 숙소상세정보 데이터 불러오기\n",
    "\n",
    "acc_detail = pd.read_csv(f'../data/숙소상세정보.csv')\n",
    "acc_detail.head()"
   ]
  },
  {
   "cell_type": "code",
   "execution_count": 4,
   "metadata": {},
   "outputs": [
    {
     "data": {
      "text/html": [
       "<div>\n",
       "<style scoped>\n",
       "    .dataframe tbody tr th:only-of-type {\n",
       "        vertical-align: middle;\n",
       "    }\n",
       "\n",
       "    .dataframe tbody tr th {\n",
       "        vertical-align: top;\n",
       "    }\n",
       "\n",
       "    .dataframe thead th {\n",
       "        text-align: right;\n",
       "    }\n",
       "</style>\n",
       "<table border=\"1\" class=\"dataframe\">\n",
       "  <thead>\n",
       "    <tr style=\"text-align: right;\">\n",
       "      <th></th>\n",
       "      <th>Unnamed: 0</th>\n",
       "      <th>roomId</th>\n",
       "      <th>accommodationId</th>\n",
       "      <th>name</th>\n",
       "      <th>checkIn</th>\n",
       "      <th>checkOut</th>\n",
       "      <th>defaultPeople</th>\n",
       "      <th>maxPeople</th>\n",
       "    </tr>\n",
       "  </thead>\n",
       "  <tbody>\n",
       "    <tr>\n",
       "      <th>0</th>\n",
       "      <td>0</td>\n",
       "      <td>1</td>\n",
       "      <td>1</td>\n",
       "      <td>랜덤객실</td>\n",
       "      <td>23.0</td>\n",
       "      <td>12</td>\n",
       "      <td>2</td>\n",
       "      <td>2</td>\n",
       "    </tr>\n",
       "    <tr>\n",
       "      <th>1</th>\n",
       "      <td>1</td>\n",
       "      <td>2</td>\n",
       "      <td>1</td>\n",
       "      <td>로이</td>\n",
       "      <td>23.0</td>\n",
       "      <td>12</td>\n",
       "      <td>2</td>\n",
       "      <td>2</td>\n",
       "    </tr>\n",
       "    <tr>\n",
       "      <th>2</th>\n",
       "      <td>2</td>\n",
       "      <td>3</td>\n",
       "      <td>1</td>\n",
       "      <td>샴페인골드</td>\n",
       "      <td>23.0</td>\n",
       "      <td>12</td>\n",
       "      <td>2</td>\n",
       "      <td>2</td>\n",
       "    </tr>\n",
       "    <tr>\n",
       "      <th>3</th>\n",
       "      <td>3</td>\n",
       "      <td>4</td>\n",
       "      <td>1</td>\n",
       "      <td>미스트</td>\n",
       "      <td>23.0</td>\n",
       "      <td>12</td>\n",
       "      <td>2</td>\n",
       "      <td>2</td>\n",
       "    </tr>\n",
       "    <tr>\n",
       "      <th>4</th>\n",
       "      <td>4</td>\n",
       "      <td>5</td>\n",
       "      <td>1</td>\n",
       "      <td>에메랄드</td>\n",
       "      <td>23.0</td>\n",
       "      <td>12</td>\n",
       "      <td>2</td>\n",
       "      <td>2</td>\n",
       "    </tr>\n",
       "  </tbody>\n",
       "</table>\n",
       "</div>"
      ],
      "text/plain": [
       "   Unnamed: 0  roomId  accommodationId   name  checkIn  checkOut  \\\n",
       "0           0       1                1   랜덤객실     23.0        12   \n",
       "1           1       2                1     로이     23.0        12   \n",
       "2           2       3                1  샴페인골드     23.0        12   \n",
       "3           3       4                1    미스트     23.0        12   \n",
       "4           4       5                1   에메랄드     23.0        12   \n",
       "\n",
       "   defaultPeople  maxPeople  \n",
       "0              2          2  \n",
       "1              2          2  \n",
       "2              2          2  \n",
       "3              2          2  \n",
       "4              2          2  "
      ]
     },
     "execution_count": 4,
     "metadata": {},
     "output_type": "execute_result"
    }
   ],
   "source": [
    "# 방상세정보 데이터 불러오기\n",
    "room_detail = pd.read_csv(f'../data/방상세정보.csv')\n",
    "room_detail.head()"
   ]
  },
  {
   "cell_type": "code",
   "execution_count": 44,
   "metadata": {},
   "outputs": [
    {
     "name": "stderr",
     "output_type": "stream",
     "text": [
      " 15%|█▍        | 39/266 [00:30<03:05,  1.22it/s]"
     ]
    },
    {
     "name": "stdout",
     "output_type": "stream",
     "text": [
      "error 스위트 루프탑(수영장 이용불가,글램핑,트윈,... 39\n",
      "error 스위트 루프탑(수영장이용가능,글램핑,트윈,... 39\n",
      "error 파티스위트 루프탑(수영장이용가능,글램핑,트... 39\n",
      "error 무한대실 디럭스(욕조유무 랜덤배정, 넷플릭... 39\n",
      "error 파티스위트 루프탑(수영장 이용불가,글램핑, ... 39\n",
      "error 도보전용 디럭스(주차불가/랜덤배정/넷플릭스... 39\n",
      "error 디럭스A(랜덤배정/넷플릭스-본인계정) 39\n",
      "error 디럭스 트윈A(트윈베드,넷플릭스(본인계정)) 39\n",
      "error 디럭스B(랜덤배정/넷플릭스-본인계정) 39\n",
      "error 프리미엄 트윈(트윈베드,넷플릭스(본인계정)) 39\n",
      "error 디럭스 트윈B(트윈베드,넷플릭스(본인계정)) 39\n"
     ]
    },
    {
     "name": "stderr",
     "output_type": "stream",
     "text": [
      " 15%|█▌        | 40/266 [00:31<02:56,  1.28it/s]"
     ]
    },
    {
     "name": "stdout",
     "output_type": "stream",
     "text": [
      "error STANDARD ROOM 40\n",
      "error DELUXE ROOM 40\n",
      "error SUITE ROOM 40\n",
      "error ROYAL SUITE ROOM 40\n"
     ]
    },
    {
     "name": "stderr",
     "output_type": "stream",
     "text": [
      " 15%|█▌        | 41/266 [00:31<02:53,  1.30it/s]"
     ]
    },
    {
     "name": "stdout",
     "output_type": "stream",
     "text": [
      "error 이벤트룸 (도보전용/주차X) 41\n",
      "error 스탠다드A-넷플릭스 프리 41\n",
      "error 디럭스A-넷플릭스 프리 41\n",
      "error 스탠다드B-넷플릭스 프리 41\n",
      "error 디럭스B-넷플릭스 프리 41\n"
     ]
    },
    {
     "name": "stderr",
     "output_type": "stream",
     "text": [
      " 16%|█▌        | 42/266 [00:33<03:23,  1.10it/s]"
     ]
    },
    {
     "name": "stdout",
     "output_type": "stream",
     "text": [
      "error 무한대실(최대8시간) 42\n",
      "error 얼리체크인 42\n",
      "error 도보 전용 특가(주차불가,넷플릭스 시청가능 ... 42\n",
      "error 스탠다드A(넷플릭스 시청가능 랜덤배정 (욕조... 42\n",
      "error 디럭스A(넷플릭스 시청가능) 42\n",
      "error 디럭스 트윈(퀸베드+싱글베드,넷플릭스 시청... 42\n",
      "error 트윈게임룸(고사양PC,계정제공X,디럭스 침대1... 42\n",
      "error 스탠다드B(넷플릭스 시청가능 랜덤배정 (욕조... 42\n",
      "error 디럭스B(넷플릭스 시청가능) 42\n",
      "error 스위트A(스타일러, 안마의자, 넷플릭스 시청... 42\n",
      "error 스위트 B(스타일러, 안마의자, 트윈베드/퀸베... 42\n"
     ]
    },
    {
     "name": "stderr",
     "output_type": "stream",
     "text": [
      " 16%|█▌        | 43/266 [00:33<03:09,  1.18it/s]"
     ]
    },
    {
     "name": "stdout",
     "output_type": "stream",
     "text": [
      "error Standard (넷플릭스,배틀그라운드) 43\n",
      "error Deluxe (넷플릭스,배틀그라운드) 43\n",
      "error Twin (넷플릭스,배틀그라운드) 43\n",
      "error VIP (넷플릭스,배틀그라운드) 43\n"
     ]
    },
    {
     "name": "stderr",
     "output_type": "stream",
     "text": [
      " 17%|█▋        | 45/266 [00:35<02:59,  1.23it/s]"
     ]
    },
    {
     "name": "stdout",
     "output_type": "stream",
     "text": [
      "error 무한대실(슈페리어) 45\n",
      "error 무한대실(디럭스) 45\n",
      "error 야간대실 45\n",
      "error 슈페리어(도보전용) 45\n",
      "error 슈페리어(One OrdinaryDay) 45\n",
      "error 디럭스(A Refresh Day) 45\n",
      "error Sitting Room 45\n",
      "error Twin room 45\n",
      "error Glamorous Room 45\n"
     ]
    },
    {
     "name": "stderr",
     "output_type": "stream",
     "text": [
      " 17%|█▋        | 46/266 [00:35<02:39,  1.38it/s]"
     ]
    },
    {
     "name": "stdout",
     "output_type": "stream",
     "text": [
      "error 디럭스 랜덤 46\n",
      "error 테라스 랜덤 46\n",
      "error Cinema 4월(20시입실) 46\n",
      "error 키친하우스(20시 입실) 46\n",
      "error Cinema 4월(15시입실) 46\n",
      "error 키친하우스 46\n"
     ]
    },
    {
     "name": "stderr",
     "output_type": "stream",
     "text": [
      " 18%|█▊        | 47/266 [00:36<02:29,  1.46it/s]"
     ]
    },
    {
     "name": "stdout",
     "output_type": "stream",
     "text": [
      "error Junior Suite-쥬니어스위트 47\n",
      "error Standard-일반실(랜덤배정, 넷플릭스 본인계정) 47\n",
      "error Standard-일반실(도보전용,랜덤배정,넷플릭스... 47\n",
      "error Deluxe-준특실(랜덤배정, 넷플릭스 본인계정) 47\n",
      "error Premium-프리미엄(랜덤배정, 넷플릭스 본인계정) 47\n",
      "error Suite B(넷플릭스 본인계정) 47\n",
      "error Suite A(넷플릭스 본인계정) 47\n"
     ]
    },
    {
     "name": "stderr",
     "output_type": "stream",
     "text": [
      " 18%|█▊        | 48/266 [00:37<02:27,  1.48it/s]"
     ]
    },
    {
     "name": "stdout",
     "output_type": "stream",
     "text": [
      "error 스탠다드 (도보전용)(주차불가) 48\n",
      "error 스탠다드A 48\n",
      "error 스탠다드B 48\n",
      "error 디럭스 더블 48\n"
     ]
    },
    {
     "name": "stderr",
     "output_type": "stream",
     "text": [
      " 18%|█▊        | 49/266 [00:38<02:43,  1.33it/s]"
     ]
    },
    {
     "name": "stdout",
     "output_type": "stream",
     "text": [
      "error Deluxe-주차불가 49\n",
      "error Deluxe-주차가능 49\n",
      "error Premier-주차불가 49\n",
      "error Premier (주차가능) 49\n",
      "error Premier Twin-주차불가 49\n",
      "error Premier-Twin (주차가능) 49\n",
      "error Ace Twin-주차불가 49\n",
      "error Ace Twin (주차가능) 49\n"
     ]
    },
    {
     "name": "stderr",
     "output_type": "stream",
     "text": [
      " 19%|█▉        | 50/266 [00:38<02:40,  1.35it/s]"
     ]
    },
    {
     "name": "stdout",
     "output_type": "stream",
     "text": [
      "error 일반실(주차불가) 50\n",
      "error 일반실(주차가능) 50\n",
      "error 특실A 50\n",
      "error 특실B 50\n"
     ]
    },
    {
     "name": "stderr",
     "output_type": "stream",
     "text": [
      " 20%|█▉        | 52/266 [00:40<02:45,  1.30it/s]"
     ]
    },
    {
     "name": "stdout",
     "output_type": "stream",
     "text": [
      "error 프리미어A 52\n",
      "error 디럭스A 52\n",
      "error 도보전용-디럭스 52\n",
      "error 디럭스B 52\n",
      "error 프리미어B 52\n",
      "error 스위트 52\n"
     ]
    },
    {
     "name": "stderr",
     "output_type": "stream",
     "text": [
      " 20%|█▉        | 53/266 [00:40<02:27,  1.44it/s]"
     ]
    },
    {
     "name": "stdout",
     "output_type": "stream",
     "text": [
      "error DELUXE 53\n",
      "error SUITE 53\n",
      "error SUITE TWIN 53\n",
      "error PREMIUM 53\n"
     ]
    },
    {
     "name": "stderr",
     "output_type": "stream",
     "text": [
      " 20%|██        | 54/266 [00:41<02:27,  1.44it/s]"
     ]
    },
    {
     "name": "stdout",
     "output_type": "stream",
     "text": [
      "error Superior Twin(넷플릭스 시청가능,본인계정으... 54\n",
      "error Deluxe Family Twin (넷플릭스 시청가능,본인... 54\n",
      "error Deluxe Double(넷플릭스 시청가능,본인계정으... 54\n",
      "error Designers Suite(넷플릭스 시청가능,본인계정... 54\n",
      "error LYJ Suite(넷플릭스 시청가능,본인계정으로만... 54\n"
     ]
    },
    {
     "name": "stderr",
     "output_type": "stream",
     "text": [
      " 21%|██        | 55/266 [00:42<02:19,  1.51it/s]"
     ]
    },
    {
     "name": "stdout",
     "output_type": "stream",
     "text": [
      "error 일반실 55\n",
      "error 준특실 55\n",
      "error 안마의자 릴렉스 객실 55\n",
      "error 투룸 VIP 특실 55\n"
     ]
    },
    {
     "name": "stderr",
     "output_type": "stream",
     "text": [
      " 21%|██        | 56/266 [00:42<02:25,  1.44it/s]"
     ]
    },
    {
     "name": "stdout",
     "output_type": "stream",
     "text": [
      "error Standard 56\n",
      "error Standard 56\n",
      "error Tom room 56\n",
      "error Jerry room 56\n"
     ]
    },
    {
     "name": "stderr",
     "output_type": "stream",
     "text": [
      " 21%|██▏       | 57/266 [00:43<02:20,  1.48it/s]"
     ]
    },
    {
     "name": "stdout",
     "output_type": "stream",
     "text": [
      "error 디럭스룸 얼리체크인10시(2인기준) 57\n",
      "error 파크 디럭스(2인 기준) 57\n",
      "error 클래식 더블(2인 기준) 57\n",
      "error 스파 디럭스(2인 기준) 57\n",
      "error 디럭스룸 24시패키지(2인기준) 57\n",
      "error 스파 디럭스(648호텔 패키지24시간 사용) 57\n",
      "error 스파 더블 디럭스(2인 기준) 57\n",
      "error 더블 디럭스 (랜덤배정) 57\n",
      "error 펜트하우스 (4인까지가능-혼숙불가) 57\n",
      "error 펜트하우스648(4인까지가능) 57\n"
     ]
    },
    {
     "name": "stderr",
     "output_type": "stream",
     "text": [
      " 22%|██▏       | 58/266 [00:44<02:42,  1.28it/s]"
     ]
    },
    {
     "name": "stdout",
     "output_type": "stream",
     "text": [
      "error 스위트 루프탑(수영장 이용불가,글램핑,트윈,... 58\n",
      "error 스위트 루프탑(수영장이용가능,글램핑,트윈,... 58\n",
      "error 파티스위트 루프탑(수영장이용가능,글램핑,트... 58\n",
      "error 무한대실 디럭스(욕조유무 랜덤배정, 넷플릭... 58\n",
      "error 파티스위트 루프탑(수영장 이용불가,글램핑, ... 58\n",
      "error 도보전용 디럭스(주차불가/랜덤배정/넷플릭스... 58\n",
      "error 디럭스A(랜덤배정/넷플릭스-본인계정) 58\n",
      "error 디럭스 트윈A(트윈베드,넷플릭스(본인계정)) 58\n",
      "error 디럭스B(랜덤배정/넷플릭스-본인계정) 58\n",
      "error 프리미엄 트윈(트윈베드,넷플릭스(본인계정)) 58\n",
      "error 디럭스 트윈B(트윈베드,넷플릭스(본인계정)) 58\n"
     ]
    },
    {
     "name": "stderr",
     "output_type": "stream",
     "text": [
      " 22%|██▏       | 59/266 [00:45<02:45,  1.25it/s]"
     ]
    },
    {
     "name": "stdout",
     "output_type": "stream",
     "text": [
      "error STANDARD ROOM 59\n",
      "error DELUXE ROOM 59\n",
      "error SUITE ROOM 59\n",
      "error ROYAL SUITE ROOM 59\n"
     ]
    },
    {
     "name": "stderr",
     "output_type": "stream",
     "text": [
      " 23%|██▎       | 60/266 [00:46<02:36,  1.32it/s]"
     ]
    },
    {
     "name": "stdout",
     "output_type": "stream",
     "text": [
      "error 이벤트룸 (도보전용/주차X) 60\n",
      "error 스탠다드A-넷플릭스 프리 60\n",
      "error 디럭스A-넷플릭스 프리 60\n",
      "error 스탠다드B-넷플릭스 프리 60\n",
      "error 디럭스B-넷플릭스 프리 60\n"
     ]
    },
    {
     "name": "stderr",
     "output_type": "stream",
     "text": [
      " 23%|██▎       | 61/266 [00:47<02:46,  1.23it/s]"
     ]
    },
    {
     "name": "stdout",
     "output_type": "stream",
     "text": [
      "error 로얄스위트룸 (수영장 / 빔프로젝터/건식사우... 61\n",
      "error 로얄스위트룸  (복층 /포켓볼/빔 프로젝터)/4... 61\n",
      "error 스위트룸(단층 / 빔 프로젝터)/4인기준 61\n",
      "error 스탠다드B 61\n",
      "error 디럭스B 61\n",
      "error 프리미엄B 61\n",
      "error 스탠다드 A 61\n",
      "error 디럭스 A 61\n",
      "error 프리미엄A 61\n"
     ]
    },
    {
     "name": "stderr",
     "output_type": "stream",
     "text": [
      " 23%|██▎       | 62/266 [00:47<02:44,  1.24it/s]"
     ]
    },
    {
     "name": "stdout",
     "output_type": "stream",
     "text": [
      "error 슈페리얼(도보특가,각종OTT무료) 62\n",
      "error 슈페리얼(랜덤배정,각종OTT무료) 62\n",
      "error 프리미엄A(스타일러,욕조,각종 OTT무료) 62\n",
      "error 프리미엄B(욕조,각종OTT무료) 62\n",
      "error 스위트B(쇼파베드,스타일러) 62\n",
      "error 스위트A(안마의자,two베드,스타일러) 62\n",
      "error 루프탑 패키지(이용은 숙소로 문의/넷플릭스,... 62\n"
     ]
    },
    {
     "name": "stderr",
     "output_type": "stream",
     "text": [
      " 24%|██▎       | 63/266 [00:48<02:53,  1.17it/s]"
     ]
    },
    {
     "name": "stdout",
     "output_type": "stream",
     "text": [
      "error 무한대실(최대8시간) 63\n",
      "error 얼리체크인 63\n",
      "error 도보 전용 특가(주차불가,넷플릭스 시청가능 ... 63\n",
      "error 스탠다드A(넷플릭스 시청가능 랜덤배정 (욕조... 63\n",
      "error 디럭스A(넷플릭스 시청가능) 63\n",
      "error 디럭스 트윈(퀸베드+싱글베드,넷플릭스 시청... 63\n",
      "error 트윈게임룸(고사양PC,계정제공X,디럭스 침대1... 63\n",
      "error 스탠다드B(넷플릭스 시청가능 랜덤배정 (욕조... 63\n",
      "error 디럭스B(넷플릭스 시청가능) 63\n",
      "error 스위트A(스타일러, 안마의자, 넷플릭스 시청... 63\n",
      "error 스위트 B(스타일러, 안마의자, 트윈베드/퀸베... 63\n"
     ]
    },
    {
     "name": "stderr",
     "output_type": "stream",
     "text": [
      " 24%|██▍       | 64/266 [00:49<02:47,  1.21it/s]"
     ]
    },
    {
     "name": "stdout",
     "output_type": "stream",
     "text": [
      "error Standard (넷플릭스,배틀그라운드) 64\n",
      "error Deluxe (넷플릭스,배틀그라운드) 64\n",
      "error Twin (넷플릭스,배틀그라운드) 64\n",
      "error VIP (넷플릭스,배틀그라운드) 64\n"
     ]
    },
    {
     "name": "stderr",
     "output_type": "stream",
     "text": [
      " 24%|██▍       | 65/266 [00:50<02:48,  1.19it/s]"
     ]
    },
    {
     "name": "stdout",
     "output_type": "stream",
     "text": [
      "error 스탠다드(주차불가) 65\n",
      "error 스탠다드(넷플릭스,랜덤배정) 65\n",
      "error 도보전용(디럭스,넷플릭스, 랜덤배정) 65\n",
      "error 색시룸(넷플릭스,랜덤배정) 65\n",
      "error 디럭스(넷플릭스,랜덤배정) 65\n",
      "error 디럭스 2PC 65\n",
      "error 스위트(넷플릭스,랜덤배정) 65\n",
      "error 오늘의특가(주차불가,객실 랜덤 배정) 65\n",
      "error 스위트 패밀리 트윈(넷플릭스, 랜덤배정) 65\n",
      "error 스위트 스파(넷플릭스,랜덤배정) 65\n",
      "error 아드리게 노천탕 65\n"
     ]
    },
    {
     "name": "stderr",
     "output_type": "stream",
     "text": [
      " 25%|██▍       | 66/266 [00:51<02:55,  1.14it/s]"
     ]
    },
    {
     "name": "stdout",
     "output_type": "stream",
     "text": [
      "error 배그 풀옵 2PC룸(I5-9400/16G/RTX2060/144hz/... 66\n",
      "error 스위트 이벤트룸(기존4인/노래방/노하드 배틀... 66\n",
      "error Standard(도보전용) 66\n",
      "error Deluxe A 66\n",
      "error Deluxe B 66\n",
      "error 배그 2PC룸(i5-7500/16G/GTX1060/144hz/넷플... 66\n",
      "error 배그 1PC룸(I5-7500/16G/GTX1060/144hz/넷플... 66\n",
      "error VIP 66\n",
      "error VIP Twin 66\n",
      "error 이벤트룸 66\n"
     ]
    },
    {
     "name": "stderr",
     "output_type": "stream",
     "text": [
      " 25%|██▌       | 67/266 [00:52<02:38,  1.25it/s]"
     ]
    },
    {
     "name": "stdout",
     "output_type": "stream",
     "text": [
      "error standard(도보전용) 67\n",
      "error 65인치 Cinema(넷플릭스 본인 계정 사용) 67\n",
      "error Twin(넷플릭스) 67\n",
      "error 75인치 Cinema(넷플릭스 본인 계정 사용) 67\n",
      "error 안마의자 65인치 Cinema(넷플릭스 본인 계정 ... 67\n"
     ]
    },
    {
     "name": "stderr",
     "output_type": "stream",
     "text": [
      " 26%|██▌       | 68/266 [00:53<03:02,  1.08it/s]"
     ]
    },
    {
     "name": "stdout",
     "output_type": "stream",
     "text": [
      "error Premier[객실랜덤]-와인무료제공 (연박예약 ... 68\n",
      "error Superior Suite[객실랜덤]-와인무료제공 (연... 68\n",
      "error Superior Suite [Late Check in & 객실랜덤](... 68\n",
      "error Premier [Late Check in & 객실랜덤]( 연박 ... 68\n",
      "error Classic [Late Check in & 객실랜덤]( 연박 ... 68\n",
      "error Classic[객실랜덤]-와인무료제공 (연박예약 ... 68\n",
      "error [선착순 룸 업그레이드] Premier를 Superior ... 68\n",
      "error [선착순 룸 업그레이드] Classic를 Premier ~... 68\n",
      "error [선착순 룸 업그레이드]Classic를 Superior S... 68\n",
      "error [호캉스 set] Classic-호텔 떡볶이+음료2잔 ... 68\n",
      "error [호캉스 set] Premier-호텔 떡볶이+음료2잔 o... 68\n",
      "error [호캉스 set] Suite-호텔 떡볶이+음료2잔 or ... 68\n",
      "error Classic 무료주차(연박 예약불가,객실 랜덤배정) 68\n",
      "error Classic[도보전용] ( 연박 예약불가, 객실 랜... 68\n",
      "error Classic [객실랜덤] (연박예약 가능) 68\n",
      "error 14시 체크아웃 Classic [객실랜덤,연박불가] 68\n",
      "error Premier [객실랜덤] (연박예약 가능) 68\n",
      "error 14시 체크아웃 Premier [객실랜덤,연박불가] 68\n",
      "error Superior Suite [객실랜덤] (연박예약 가능) 68\n",
      "error 14시 체크아웃 Superior Suite [객실랜덤,연... 68\n"
     ]
    },
    {
     "name": "stderr",
     "output_type": "stream",
     "text": [
      " 26%|██▌       | 69/266 [00:54<02:53,  1.13it/s]"
     ]
    },
    {
     "name": "stdout",
     "output_type": "stream",
     "text": [
      "error 무한대실(슈페리어) 69\n",
      "error 무한대실(디럭스) 69\n",
      "error 야간대실 69\n",
      "error 슈페리어(도보전용) 69\n",
      "error 슈페리어(One OrdinaryDay) 69\n",
      "error 디럭스(A Refresh Day) 69\n",
      "error Sitting Room 69\n",
      "error Twin room 69\n",
      "error Glamorous Room 69\n"
     ]
    },
    {
     "name": "stderr",
     "output_type": "stream",
     "text": [
      " 26%|██▋       | 70/266 [00:54<02:36,  1.25it/s]"
     ]
    },
    {
     "name": "stdout",
     "output_type": "stream",
     "text": [
      "error 디럭스 랜덤 70\n",
      "error 테라스 랜덤 70\n",
      "error Cinema 4월(20시입실) 70\n",
      "error 키친하우스(20시 입실) 70\n",
      "error Cinema 4월(15시입실) 70\n",
      "error 키친하우스 70\n"
     ]
    },
    {
     "name": "stderr",
     "output_type": "stream",
     "text": [
      " 27%|██▋       | 71/266 [00:55<02:20,  1.39it/s]"
     ]
    },
    {
     "name": "stdout",
     "output_type": "stream",
     "text": [
      "error Deluxe with Spa 71\n",
      "error Deluxe 71\n",
      "error Deluxe (객실랜덤,낮숙박) 71\n",
      "error Suite 71\n",
      "error Suite (객실랜덤,낮숙박) 71\n"
     ]
    },
    {
     "name": "stderr",
     "output_type": "stream",
     "text": [
      " 27%|██▋       | 72/266 [00:55<02:12,  1.47it/s]"
     ]
    },
    {
     "name": "stdout",
     "output_type": "stream",
     "text": [
      "error Junior Suite-쥬니어스위트 72\n",
      "error Standard-일반실(랜덤배정, 넷플릭스 본인계정) 72\n",
      "error Standard-일반실(도보전용,랜덤배정,넷플릭스... 72\n",
      "error Deluxe-준특실(랜덤배정, 넷플릭스 본인계정) 72\n",
      "error Premium-프리미엄(랜덤배정, 넷플릭스 본인계정) 72\n",
      "error Suite B(넷플릭스 본인계정) 72\n",
      "error Suite A(넷플릭스 본인계정) 72\n"
     ]
    },
    {
     "name": "stderr",
     "output_type": "stream",
     "text": [
      " 27%|██▋       | 73/266 [00:56<02:18,  1.39it/s]"
     ]
    },
    {
     "name": "stdout",
     "output_type": "stream",
     "text": [
      "error 스탠다드 (도보전용)(주차불가) 73\n",
      "error 스탠다드A 73\n",
      "error 스탠다드B 73\n",
      "error 디럭스 더블 73\n"
     ]
    },
    {
     "name": "stderr",
     "output_type": "stream",
     "text": [
      " 28%|██▊       | 74/266 [00:57<02:26,  1.31it/s]"
     ]
    },
    {
     "name": "stdout",
     "output_type": "stream",
     "text": [
      "error 일반(넷플릭스) 74\n",
      "error 일반(도보전용,주차불가) 74\n",
      "error 특실(넷플릭스) 74\n",
      "error VIP(넷플릭스) 74\n"
     ]
    },
    {
     "name": "stderr",
     "output_type": "stream",
     "text": [
      " 28%|██▊       | 75/266 [00:58<02:18,  1.38it/s]"
     ]
    },
    {
     "name": "stdout",
     "output_type": "stream",
     "text": [
      "error 스탠다드 주차불가(선착순) 75\n",
      "error 스탠다드 75\n",
      "error 디럭스 75\n",
      "error 트윈(더블/싱글) 75\n",
      "error 스위트(더블/싱글) 75\n"
     ]
    },
    {
     "name": "stderr",
     "output_type": "stream",
     "text": [
      " 29%|██▊       | 76/266 [00:59<02:32,  1.24it/s]"
     ]
    },
    {
     "name": "stdout",
     "output_type": "stream",
     "text": [
      "error Deluxe-주차불가 76\n",
      "error Deluxe-주차가능 76\n",
      "error Premier-주차불가 76\n",
      "error Premier (주차가능) 76\n",
      "error Premier Twin-주차불가 76\n",
      "error Premier-Twin (주차가능) 76\n",
      "error Ace Twin-주차불가 76\n",
      "error Ace Twin (주차가능) 76\n"
     ]
    },
    {
     "name": "stderr",
     "output_type": "stream",
     "text": [
      " 29%|██▉       | 77/266 [00:59<02:23,  1.31it/s]"
     ]
    },
    {
     "name": "stdout",
     "output_type": "stream",
     "text": [
      "error 일반실(주차불가) 77\n",
      "error 일반실(주차가능) 77\n",
      "error 특실A 77\n",
      "error 특실B 77\n"
     ]
    },
    {
     "name": "stderr",
     "output_type": "stream",
     "text": [
      " 29%|██▉       | 78/266 [01:00<02:22,  1.32it/s]"
     ]
    },
    {
     "name": "stdout",
     "output_type": "stream",
     "text": [
      "error Deluxe(빠른입실/도보전용) 78\n",
      "error Deluxe(빠른입실/주차전용) 78\n",
      "error Deluxe(늦은입실/도보전용) 78\n",
      "error Deluxe(늦은입실/주차전용) 78\n",
      "error Deluxe(넷플릭스 전용) 78\n",
      "error Deluxe Twin 78\n",
      "error Royal Suite(넷플릭스 전용) 78\n",
      "error Suite(넷플릭스 전용) 78\n"
     ]
    },
    {
     "name": "stderr",
     "output_type": "stream",
     "text": [
      " 30%|██▉       | 79/266 [01:01<02:24,  1.30it/s]"
     ]
    },
    {
     "name": "stdout",
     "output_type": "stream",
     "text": [
      "error Deluxe-도보전용(주차불가) 79\n",
      "error Deluxe Plus-도보전용(주차불가) 79\n",
      "error 비지니스룸(주차가능) 79\n",
      "error Deluxe Plus(주차가능) 79\n",
      "error Deluxe(주차가능) 79\n"
     ]
    },
    {
     "name": "stderr",
     "output_type": "stream",
     "text": [
      " 30%|███       | 80/266 [01:02<02:23,  1.29it/s]"
     ]
    },
    {
     "name": "stdout",
     "output_type": "stream",
     "text": [
      "error 야간대실 이벤트룸(넷플릭스 시청가능, 객실... 80\n",
      "error 당일특가 이벤트룸(넷플릭스 시청가능, 객실 ... 80\n",
      "error 빠른입실 이벤트룸(넷플릭스 시청가능, 객실 ... 80\n",
      "error 늦은퇴실 이벤트룸(넷플릭스 시청가능, 객실 ... 80\n",
      "error 스탠다드(넷플릭스 시청가능) 80\n",
      "error 무한대실 랜덤배정(스탠다드,디럭스객실 랜덤... 80\n",
      "error 디럭스(넷플릭스 시청가능) 80\n",
      "error 스위트 트윈(넷플릭스 시청가능) 80\n",
      "error 스위트(넷플릭스 시청가능) 80\n"
     ]
    },
    {
     "name": "stderr",
     "output_type": "stream",
     "text": [
      " 30%|███       | 81/266 [01:02<02:19,  1.33it/s]"
     ]
    },
    {
     "name": "stdout",
     "output_type": "stream",
     "text": [
      "error 프리미어A 81\n",
      "error 디럭스A 81\n",
      "error 도보전용-디럭스 81\n",
      "error 디럭스B 81\n",
      "error 프리미어B 81\n",
      "error 스위트 81\n"
     ]
    },
    {
     "name": "stderr",
     "output_type": "stream",
     "text": [
      " 31%|███       | 82/266 [01:03<02:13,  1.38it/s]"
     ]
    },
    {
     "name": "stdout",
     "output_type": "stream",
     "text": [
      "error 무한이벤트룸 (넷플릭스, 유튜브) 82\n",
      "error 무한디럭스 더블 (넷플릭스, 유튜브) 82\n",
      "error 무한비즈니스 더블 (넷플릭스, 유튜브) 82\n",
      "error 무한스위트 트윈 (넷플릭스, 유튜브) 82\n",
      "error 스위트 릴렉스 (넷플릭스, 유튜브) 82\n",
      "error 이벤트룸 (넷플릭스, 유튜브) 82\n",
      "error 디럭스 더블 (넷플릭스, 유튜브) 82\n",
      "error 디럭스 트윈 (넷플릭스, 유튜브) 82\n",
      "error 비즈니스 더블 (넷플릭스, 유튜브) 82\n",
      "error 비즈니스 트윈 (넷플릭스, 유튜브) 82\n",
      "error 스위트 트윈 (넷플릭스, 유튜브) 82\n",
      "error 데님 스위트 (넷플릭스, 유튜브) 82\n"
     ]
    },
    {
     "name": "stderr",
     "output_type": "stream",
     "text": [
      " 34%|███▍      | 91/266 [01:09<02:10,  1.34it/s]"
     ]
    },
    {
     "name": "stdout",
     "output_type": "stream",
     "text": [
      "error SPECIAL(전차종 주차가능/넷플릭스-본인계정/... 91\n",
      "error PREMIUM(심야대실- 전차종 주차가능/넷플릭스... 91\n",
      "error STANDARD(주차불가/넷플릭스-본인계정/조식무... 91\n",
      "error STANDARD(전차종 주차가능/넷플릭스-본인계정... 91\n",
      "error STANDARD(주차불가/넷플릭스-본인계정/조식무... 91\n",
      "error DELUXE(전차종 주차가능/넷플릭스-본인계정/... 91\n",
      "error PREMIUM(전차종 주차가능/넷플릭스-본인계정/... 91\n",
      "error PREMIUM+EVENT(전차종 주차가능/넷플릭스-본... 91\n"
     ]
    },
    {
     "name": "stderr",
     "output_type": "stream",
     "text": [
      " 35%|███▍      | 92/266 [01:10<02:16,  1.28it/s]"
     ]
    },
    {
     "name": "stdout",
     "output_type": "stream",
     "text": [
      "error 스페셜(랜덤배정) 92\n",
      "error 스탠다드 (페이백) 92\n",
      "error 스탠다드 92\n",
      "error 슈페리얼 92\n",
      "error 스탠다드(도보전용/주차불가) 92\n",
      "error 디럭스 92\n",
      "error 스위트 92\n",
      "error 로얄스위트 92\n"
     ]
    },
    {
     "name": "stderr",
     "output_type": "stream",
     "text": [
      " 35%|███▍      | 93/266 [01:11<02:31,  1.14it/s]"
     ]
    },
    {
     "name": "stdout",
     "output_type": "stream",
     "text": [
      "error Standard (페이백) 93\n",
      "error Standard(객실 랜덤배정) 93\n",
      "error Late Standard(객실 랜덤배정) 93\n",
      "error Standard(5회 이용시 1회 무료)토,일 공휴일 ... 93\n",
      "error Deluxe(75Inch SMART TV, 넷플릭스프리존, 랜... 93\n",
      "error Suite (객실랜덤 배정) 93\n"
     ]
    },
    {
     "name": "stderr",
     "output_type": "stream",
     "text": [
      " 35%|███▌      | 94/266 [01:12<02:26,  1.18it/s]"
     ]
    },
    {
     "name": "stdout",
     "output_type": "stream",
     "text": [
      "error 디럭스(주차불가차량suv,박스카,튜닝카,럭셔... 94\n",
      "error 디럭스 주차불가 (도보전용,넷플릭스 시청가능) 94\n",
      "error 디럭스(주차불가차량suv,박스카,튜닝카,럭셔... 94\n",
      "error 프리미엄 (넷플릭스 시청가능) 94\n",
      "error 스위트 주차불가(도보전용,,넷플릭스 시청가능) 94\n",
      "error 스위트 (넷플릭스 시청가능) 94\n",
      "error 로얄 스위트 ((넷플릭스 시청가능) 94\n"
     ]
    },
    {
     "name": "stderr",
     "output_type": "stream",
     "text": [
      " 36%|███▋      | 97/266 [01:15<02:24,  1.17it/s]"
     ]
    },
    {
     "name": "stdout",
     "output_type": "stream",
     "text": [
      "error 로프트 더블 97\n",
      "error 스튜디오 트윈 97\n",
      "error [Sunset with wine 패키지] 로프트 더블 97\n",
      "error [서울 뷰 맛집 패키지] 로프트 더블 97\n",
      "error [Sunset with wine 패키지] 스튜디오 트윈 97\n",
      "error [서울 뷰 맛집 패키지] 스튜디오 트윈 97\n"
     ]
    },
    {
     "name": "stderr",
     "output_type": "stream",
     "text": [
      " 68%|██████▊   | 180/266 [02:10<01:00,  1.41it/s]"
     ]
    },
    {
     "name": "stdout",
     "output_type": "stream",
     "text": [
      "error 2호 쥬피터 180\n",
      "error 3호 헤라 180\n",
      "error 4호 비너스 180\n",
      "error 1호 라운지 180\n",
      "error 5호 헤르메스 180\n"
     ]
    },
    {
     "name": "stderr",
     "output_type": "stream",
     "text": [
      "100%|██████████| 266/266 [02:59<00:00,  1.48it/s]\n"
     ]
    }
   ],
   "source": [
    "# 저장한 숙소 목록의 상세정보 데이터 가져오기\n",
    "image_list = []\n",
    "\n",
    "for idx in tqdm(range(len(acc_detail))):\n",
    "    cur = acc_detail.iloc[idx]\n",
    "    ano = cur['ano']\n",
    "    id = cur['id']\n",
    "    category = cur['category']\n",
    "\n",
    "    time.sleep(0.1)\n",
    "    url = f\"https://www.goodchoice.kr/product/detail?ano={ano}&sel_date=2023-09-30&sel_date2=2023-10-01\"\n",
    "\n",
    "    resp = requests.get(url)\n",
    "    soup = BeautifulSoup(resp.content , \"html.parser\")\n",
    "    html = soup.select_one(\"#content\")\n",
    "\n",
    "    # 방 상세정보\n",
    "    rooms = html.select_one('.room_info')\n",
    "\n",
    "    for room in rooms.select('.room'):\n",
    "            \n",
    "        try:\n",
    "            name = room.select_one('.title').text.strip()\n",
    "            \n",
    "            roomId = room_detail[(room_detail[\"accommodationId\"] == id) & (room_detail[\"name\"] == name)].iloc[0][\"roomId\"]\n",
    "\n",
    "            images = room.select_one('.pic_wrap').select(\".gallery_m .item\")\n",
    "            for image in images:\n",
    "                image_list.append({\n",
    "                     \"url\" : \"https:\"+image.select_one(\"img\")[\"data-src\"],\n",
    "                     \"roomId\" : roomId\n",
    "                })\n",
    "        except:\n",
    "            print(\"error\", name, id)"
   ]
  },
  {
   "cell_type": "code",
   "execution_count": 46,
   "metadata": {},
   "outputs": [
    {
     "data": {
      "text/html": [
       "<div>\n",
       "<style scoped>\n",
       "    .dataframe tbody tr th:only-of-type {\n",
       "        vertical-align: middle;\n",
       "    }\n",
       "\n",
       "    .dataframe tbody tr th {\n",
       "        vertical-align: top;\n",
       "    }\n",
       "\n",
       "    .dataframe thead th {\n",
       "        text-align: right;\n",
       "    }\n",
       "</style>\n",
       "<table border=\"1\" class=\"dataframe\">\n",
       "  <thead>\n",
       "    <tr style=\"text-align: right;\">\n",
       "      <th></th>\n",
       "      <th>url</th>\n",
       "      <th>roomId</th>\n",
       "    </tr>\n",
       "  </thead>\n",
       "  <tbody>\n",
       "    <tr>\n",
       "      <th>0</th>\n",
       "      <td>https://image.goodchoice.kr/resize_490x348/adi...</td>\n",
       "      <td>1</td>\n",
       "    </tr>\n",
       "    <tr>\n",
       "      <th>1</th>\n",
       "      <td>https://image.goodchoice.kr/resize_490x348/adi...</td>\n",
       "      <td>1</td>\n",
       "    </tr>\n",
       "    <tr>\n",
       "      <th>2</th>\n",
       "      <td>https://image.goodchoice.kr/resize_490x348/adi...</td>\n",
       "      <td>1</td>\n",
       "    </tr>\n",
       "  </tbody>\n",
       "</table>\n",
       "</div>"
      ],
      "text/plain": [
       "                                                 url  roomId\n",
       "0  https://image.goodchoice.kr/resize_490x348/adi...       1\n",
       "1  https://image.goodchoice.kr/resize_490x348/adi...       1\n",
       "2  https://image.goodchoice.kr/resize_490x348/adi...       1"
      ]
     },
     "execution_count": 46,
     "metadata": {},
     "output_type": "execute_result"
    }
   ],
   "source": [
    "# 데이터 프레임으로 변환\n",
    "room_picture = pd.DataFrame(image_list)\n",
    "room_picture\n",
    "\n",
    "# 방 사진정보 저장\n",
    "room_picture.to_csv(f\"../data/방사진.csv\" ,encoding=\"utf-8\")\n",
    "room_picture.head(3)"
   ]
  },
  {
   "cell_type": "code",
   "execution_count": 50,
   "metadata": {},
   "outputs": [
    {
     "data": {
      "text/html": [
       "<div>\n",
       "<style scoped>\n",
       "    .dataframe tbody tr th:only-of-type {\n",
       "        vertical-align: middle;\n",
       "    }\n",
       "\n",
       "    .dataframe tbody tr th {\n",
       "        vertical-align: top;\n",
       "    }\n",
       "\n",
       "    .dataframe thead th {\n",
       "        text-align: right;\n",
       "    }\n",
       "</style>\n",
       "<table border=\"1\" class=\"dataframe\">\n",
       "  <thead>\n",
       "    <tr style=\"text-align: right;\">\n",
       "      <th></th>\n",
       "      <th>pictureId</th>\n",
       "      <th>url</th>\n",
       "      <th>roomId</th>\n",
       "    </tr>\n",
       "  </thead>\n",
       "  <tbody>\n",
       "    <tr>\n",
       "      <th>0</th>\n",
       "      <td>1</td>\n",
       "      <td>https://image.goodchoice.kr/resize_490x348/adi...</td>\n",
       "      <td>1</td>\n",
       "    </tr>\n",
       "    <tr>\n",
       "      <th>1</th>\n",
       "      <td>2</td>\n",
       "      <td>https://image.goodchoice.kr/resize_490x348/adi...</td>\n",
       "      <td>1</td>\n",
       "    </tr>\n",
       "    <tr>\n",
       "      <th>2</th>\n",
       "      <td>3</td>\n",
       "      <td>https://image.goodchoice.kr/resize_490x348/adi...</td>\n",
       "      <td>1</td>\n",
       "    </tr>\n",
       "    <tr>\n",
       "      <th>3</th>\n",
       "      <td>4</td>\n",
       "      <td>https://image.goodchoice.kr/resize_490x348/adi...</td>\n",
       "      <td>1</td>\n",
       "    </tr>\n",
       "    <tr>\n",
       "      <th>4</th>\n",
       "      <td>5</td>\n",
       "      <td>https://image.goodchoice.kr/resize_490x348/adi...</td>\n",
       "      <td>1</td>\n",
       "    </tr>\n",
       "  </tbody>\n",
       "</table>\n",
       "</div>"
      ],
      "text/plain": [
       "   pictureId                                                url  roomId\n",
       "0          1  https://image.goodchoice.kr/resize_490x348/adi...       1\n",
       "1          2  https://image.goodchoice.kr/resize_490x348/adi...       1\n",
       "2          3  https://image.goodchoice.kr/resize_490x348/adi...       1\n",
       "3          4  https://image.goodchoice.kr/resize_490x348/adi...       1\n",
       "4          5  https://image.goodchoice.kr/resize_490x348/adi...       1"
      ]
     },
     "execution_count": 50,
     "metadata": {},
     "output_type": "execute_result"
    }
   ],
   "source": [
    "room_picture = pd.read_csv(f\"../data/방사진.csv\")\n",
    "room_picture = room_picture.rename(columns={'Unnamed: 0' : \"pictureId\"})\n",
    "room_picture[\"pictureId\"] = room_picture[\"pictureId\"] + 1\n",
    "\n",
    "room_picture.head()"
   ]
  },
  {
   "cell_type": "code",
   "execution_count": 51,
   "metadata": {},
   "outputs": [
    {
     "data": {
      "text/html": [
       "<div>\n",
       "<style scoped>\n",
       "    .dataframe tbody tr th:only-of-type {\n",
       "        vertical-align: middle;\n",
       "    }\n",
       "\n",
       "    .dataframe tbody tr th {\n",
       "        vertical-align: top;\n",
       "    }\n",
       "\n",
       "    .dataframe thead th {\n",
       "        text-align: right;\n",
       "    }\n",
       "</style>\n",
       "<table border=\"1\" class=\"dataframe\">\n",
       "  <thead>\n",
       "    <tr style=\"text-align: right;\">\n",
       "      <th></th>\n",
       "      <th>pictureId</th>\n",
       "      <th>url</th>\n",
       "      <th>roomId</th>\n",
       "    </tr>\n",
       "  </thead>\n",
       "  <tbody>\n",
       "    <tr>\n",
       "      <th>0</th>\n",
       "      <td>1</td>\n",
       "      <td>https://image.goodchoice.kr/resize_490x348/adi...</td>\n",
       "      <td>1</td>\n",
       "    </tr>\n",
       "    <tr>\n",
       "      <th>1</th>\n",
       "      <td>2</td>\n",
       "      <td>https://image.goodchoice.kr/resize_490x348/adi...</td>\n",
       "      <td>1</td>\n",
       "    </tr>\n",
       "    <tr>\n",
       "      <th>2</th>\n",
       "      <td>3</td>\n",
       "      <td>https://image.goodchoice.kr/resize_490x348/adi...</td>\n",
       "      <td>1</td>\n",
       "    </tr>\n",
       "  </tbody>\n",
       "</table>\n",
       "</div>"
      ],
      "text/plain": [
       "   pictureId                                                url  roomId\n",
       "0          1  https://image.goodchoice.kr/resize_490x348/adi...       1\n",
       "1          2  https://image.goodchoice.kr/resize_490x348/adi...       1\n",
       "2          3  https://image.goodchoice.kr/resize_490x348/adi...       1"
      ]
     },
     "execution_count": 51,
     "metadata": {},
     "output_type": "execute_result"
    }
   ],
   "source": [
    "room_picture.to_csv(f\"../data/방사진.csv\" ,encoding=\"utf-8\")\n",
    "room_picture.head(3)"
   ]
  },
  {
   "cell_type": "code",
   "execution_count": null,
   "metadata": {},
   "outputs": [],
   "source": []
  }
 ],
 "metadata": {
  "kernelspec": {
   "display_name": "Python 3",
   "language": "python",
   "name": "python3"
  },
  "language_info": {
   "codemirror_mode": {
    "name": "ipython",
    "version": 3
   },
   "file_extension": ".py",
   "mimetype": "text/x-python",
   "name": "python",
   "nbconvert_exporter": "python",
   "pygments_lexer": "ipython3",
   "version": "3.11.3"
  },
  "orig_nbformat": 4
 },
 "nbformat": 4,
 "nbformat_minor": 2
}
